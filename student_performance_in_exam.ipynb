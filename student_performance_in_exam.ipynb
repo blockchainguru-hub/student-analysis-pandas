{
 "cells": [
  {
   "metadata": {},
   "cell_type": "markdown",
   "source": "# Import all required packages",
   "id": "d78dbff2b01e64d4"
  },
  {
   "metadata": {
    "ExecuteTime": {
     "end_time": "2024-05-10T07:23:54.394857Z",
     "start_time": "2024-05-10T07:23:54.391590Z"
    }
   },
   "cell_type": "code",
   "source": [
    "import sys\n",
    "\n",
    "import matplotlib\n",
    "import numpy as np\n",
    "import pandas as pd\n",
    "import matplotlib.pyplot as plt\n",
    "import seaborn as sns\n",
    "import warnings\n",
    "\n",
    "warnings.filterwarnings(\"ignore\")"
   ],
   "id": "initial_id",
   "outputs": [],
   "execution_count": 3
  },
  {
   "metadata": {},
   "cell_type": "markdown",
   "source": "# check system information",
   "id": "347a5dbc172bd3e4"
  },
  {
   "metadata": {
    "ExecuteTime": {
     "end_time": "2024-05-10T07:24:52.863225Z",
     "start_time": "2024-05-10T07:24:52.859990Z"
    }
   },
   "cell_type": "code",
   "source": [
    "print('System Information', sys.version)\n",
    "print('Python Version', sys.version_info)\n",
    "print('Pandas Version', pd.__version__)\n",
    "print('Numpy Version', np.__version__) \n",
    "print('seaborn Version', sns.__version__)\n"
   ],
   "id": "bebdf83ef770d3b5",
   "outputs": [
    {
     "name": "stdout",
     "output_type": "stream",
     "text": [
      "System Information 3.11.5 (main, Sep 11 2023, 08:31:25) [Clang 14.0.6 ]\n",
      "Python Version sys.version_info(major=3, minor=11, micro=5, releaselevel='final', serial=0)\n",
      "Pandas Version 2.0.3\n",
      "Numpy Version 1.24.3\n",
      "seaborn Version 0.12.2\n"
     ]
    }
   ],
   "execution_count": 7
  },
  {
   "metadata": {},
   "cell_type": "markdown",
   "source": "# Load Csv File & Look at the features",
   "id": "22da4ea03b2c3d3c"
  },
  {
   "metadata": {
    "ExecuteTime": {
     "end_time": "2024-05-10T07:26:23.163512Z",
     "start_time": "2024-05-10T07:26:23.152522Z"
    }
   },
   "cell_type": "code",
   "source": [
    "df = pd.read_csv('StudentsPerformance.csv')\n",
    "\n",
    "df.head(5)"
   ],
   "id": "36f8a83ee5d70e7b",
   "outputs": [
    {
     "data": {
      "text/plain": [
       "   gender race/ethnicity parental level of education         lunch  \\\n",
       "0  female        group B           bachelor's degree      standard   \n",
       "1  female        group C                some college      standard   \n",
       "2  female        group B             master's degree      standard   \n",
       "3    male        group A          associate's degree  free/reduced   \n",
       "4    male        group C                some college      standard   \n",
       "\n",
       "  test preparation course  math score  reading score  writing score  \n",
       "0                    none          72             72             74  \n",
       "1               completed          69             90             88  \n",
       "2                    none          90             95             93  \n",
       "3                    none          47             57             44  \n",
       "4                    none          76             78             75  "
      ],
      "text/html": [
       "<div>\n",
       "<style scoped>\n",
       "    .dataframe tbody tr th:only-of-type {\n",
       "        vertical-align: middle;\n",
       "    }\n",
       "\n",
       "    .dataframe tbody tr th {\n",
       "        vertical-align: top;\n",
       "    }\n",
       "\n",
       "    .dataframe thead th {\n",
       "        text-align: right;\n",
       "    }\n",
       "</style>\n",
       "<table border=\"1\" class=\"dataframe\">\n",
       "  <thead>\n",
       "    <tr style=\"text-align: right;\">\n",
       "      <th></th>\n",
       "      <th>gender</th>\n",
       "      <th>race/ethnicity</th>\n",
       "      <th>parental level of education</th>\n",
       "      <th>lunch</th>\n",
       "      <th>test preparation course</th>\n",
       "      <th>math score</th>\n",
       "      <th>reading score</th>\n",
       "      <th>writing score</th>\n",
       "    </tr>\n",
       "  </thead>\n",
       "  <tbody>\n",
       "    <tr>\n",
       "      <th>0</th>\n",
       "      <td>female</td>\n",
       "      <td>group B</td>\n",
       "      <td>bachelor's degree</td>\n",
       "      <td>standard</td>\n",
       "      <td>none</td>\n",
       "      <td>72</td>\n",
       "      <td>72</td>\n",
       "      <td>74</td>\n",
       "    </tr>\n",
       "    <tr>\n",
       "      <th>1</th>\n",
       "      <td>female</td>\n",
       "      <td>group C</td>\n",
       "      <td>some college</td>\n",
       "      <td>standard</td>\n",
       "      <td>completed</td>\n",
       "      <td>69</td>\n",
       "      <td>90</td>\n",
       "      <td>88</td>\n",
       "    </tr>\n",
       "    <tr>\n",
       "      <th>2</th>\n",
       "      <td>female</td>\n",
       "      <td>group B</td>\n",
       "      <td>master's degree</td>\n",
       "      <td>standard</td>\n",
       "      <td>none</td>\n",
       "      <td>90</td>\n",
       "      <td>95</td>\n",
       "      <td>93</td>\n",
       "    </tr>\n",
       "    <tr>\n",
       "      <th>3</th>\n",
       "      <td>male</td>\n",
       "      <td>group A</td>\n",
       "      <td>associate's degree</td>\n",
       "      <td>free/reduced</td>\n",
       "      <td>none</td>\n",
       "      <td>47</td>\n",
       "      <td>57</td>\n",
       "      <td>44</td>\n",
       "    </tr>\n",
       "    <tr>\n",
       "      <th>4</th>\n",
       "      <td>male</td>\n",
       "      <td>group C</td>\n",
       "      <td>some college</td>\n",
       "      <td>standard</td>\n",
       "      <td>none</td>\n",
       "      <td>76</td>\n",
       "      <td>78</td>\n",
       "      <td>75</td>\n",
       "    </tr>\n",
       "  </tbody>\n",
       "</table>\n",
       "</div>"
      ]
     },
     "execution_count": 10,
     "metadata": {},
     "output_type": "execute_result"
    }
   ],
   "execution_count": 10
  },
  {
   "metadata": {},
   "cell_type": "markdown",
   "source": "# check the shape",
   "id": "1b1b57d44150bd48"
  },
  {
   "metadata": {
    "ExecuteTime": {
     "end_time": "2024-05-10T07:26:49.545185Z",
     "start_time": "2024-05-10T07:26:49.541801Z"
    }
   },
   "cell_type": "code",
   "source": "df.shape",
   "id": "b435fabfd183a205",
   "outputs": [
    {
     "data": {
      "text/plain": [
       "(1000, 8)"
      ]
     },
     "execution_count": 11,
     "metadata": {},
     "output_type": "execute_result"
    }
   ],
   "execution_count": 11
  },
  {
   "metadata": {},
   "cell_type": "markdown",
   "source": [
    "# Date Checks to Perform\n",
    "# 1. Check Missing Values\n",
    "# 2. Check Duplicates\n",
    "# 3. Check Data Type\n",
    "# 4. Check the number of unique values in each columns\n",
    "# 5. Check the statistics of the data set\n",
    "# 6. Check various categories present in the different categorical column\n"
   ],
   "id": "9c2fcffb0d4054c0"
  },
  {
   "metadata": {
    "ExecuteTime": {
     "end_time": "2024-05-10T07:42:27.677965Z",
     "start_time": "2024-05-10T07:42:27.664982Z"
    }
   },
   "cell_type": "code",
   "source": [
    "# check missing values\n",
    "df.isnull().sum()"
   ],
   "id": "d2a051940b05d0ae",
   "outputs": [
    {
     "data": {
      "text/plain": [
       "gender                         0\n",
       "race/ethnicity                 0\n",
       "parental level of education    0\n",
       "lunch                          0\n",
       "test preparation course        0\n",
       "math score                     0\n",
       "reading score                  0\n",
       "writing score                  0\n",
       "dtype: int64"
      ]
     },
     "execution_count": 12,
     "metadata": {},
     "output_type": "execute_result"
    }
   ],
   "execution_count": 12
  },
  {
   "metadata": {
    "ExecuteTime": {
     "end_time": "2024-05-10T07:43:35.866329Z",
     "start_time": "2024-05-10T07:43:35.859600Z"
    }
   },
   "cell_type": "code",
   "source": [
    "# check duplicates\n",
    "df.duplicated().sum()"
   ],
   "id": "db8aa42b94e38199",
   "outputs": [
    {
     "data": {
      "text/plain": [
       "0"
      ]
     },
     "execution_count": 13,
     "metadata": {},
     "output_type": "execute_result"
    }
   ],
   "execution_count": 13
  },
  {
   "metadata": {
    "ExecuteTime": {
     "end_time": "2024-05-10T07:43:51.442248Z",
     "start_time": "2024-05-10T07:43:51.430594Z"
    }
   },
   "cell_type": "code",
   "source": [
    "# check the Data Types\n",
    "df.info()"
   ],
   "id": "1f54b2e3ce6e6998",
   "outputs": [
    {
     "name": "stdout",
     "output_type": "stream",
     "text": [
      "<class 'pandas.core.frame.DataFrame'>\n",
      "RangeIndex: 1000 entries, 0 to 999\n",
      "Data columns (total 8 columns):\n",
      " #   Column                       Non-Null Count  Dtype \n",
      "---  ------                       --------------  ----- \n",
      " 0   gender                       1000 non-null   object\n",
      " 1   race/ethnicity               1000 non-null   object\n",
      " 2   parental level of education  1000 non-null   object\n",
      " 3   lunch                        1000 non-null   object\n",
      " 4   test preparation course      1000 non-null   object\n",
      " 5   math score                   1000 non-null   int64 \n",
      " 6   reading score                1000 non-null   int64 \n",
      " 7   writing score                1000 non-null   int64 \n",
      "dtypes: int64(3), object(5)\n",
      "memory usage: 62.6+ KB\n"
     ]
    }
   ],
   "execution_count": 14
  },
  {
   "metadata": {
    "ExecuteTime": {
     "end_time": "2024-05-10T07:44:58.860782Z",
     "start_time": "2024-05-10T07:44:58.855738Z"
    }
   },
   "cell_type": "code",
   "source": [
    "# check the number of unique values in each columns\n",
    "df.nunique()"
   ],
   "id": "a9734b12a37d8631",
   "outputs": [
    {
     "data": {
      "text/plain": [
       "gender                          2\n",
       "race/ethnicity                  5\n",
       "parental level of education     6\n",
       "lunch                           2\n",
       "test preparation course         2\n",
       "math score                     81\n",
       "reading score                  72\n",
       "writing score                  77\n",
       "dtype: int64"
      ]
     },
     "execution_count": 15,
     "metadata": {},
     "output_type": "execute_result"
    }
   ],
   "execution_count": 15
  },
  {
   "metadata": {},
   "cell_type": "markdown",
   "source": [
    "# Check Statistics of the Data Set\n",
    "    # The numerical data shown above shows that all means are fairly similar to one another, falling between 66 to 68.05\n",
    "    # The range of all standard deviations, between 14.6 and 15.19, is also narrow.\n",
    "    # While there is a minimum score of 0 for math, the minimums for writing and reading are substantially higher at 10 and 17, respectivly.\n",
    "    # We don't have any duplicate or missing values, and the following code will provide a good data checking."
   ],
   "id": "7408d011677d49ee"
  },
  {
   "metadata": {},
   "cell_type": "markdown",
   "source": "# Exploring Data",
   "id": "7d0e7e29a2bde501"
  },
  {
   "metadata": {
    "ExecuteTime": {
     "end_time": "2024-05-10T07:52:25.104873Z",
     "start_time": "2024-05-10T07:52:25.100077Z"
    }
   },
   "cell_type": "code",
   "source": [
    "print(\"Categories in 'gender' variable: \", end = \" \")\n",
    "print(df[\"gender\"].unique())\n",
    "\n",
    "print(\"Categories in 'race/ethnicity' variable: \", end = \" \")\n",
    "print(df[\"race/ethnicity\"].unique())\n",
    "\n",
    "print(\"Categories in 'parental level of education' variable: \", end = \" \")\n",
    "print(df[\"parental level of education\"].unique())\n",
    "\n",
    "print(\"Categories in 'lunch' variable: \", end = \" \")\n",
    "print(df[\"lunch\"].unique())\n",
    "\n",
    "print(\"Categories in 'test preparation course' variable: \", end = \" \")\n",
    "print(df[\"test preparation course\"].unique())\n"
   ],
   "id": "78a376eb4494adb8",
   "outputs": [
    {
     "name": "stdout",
     "output_type": "stream",
     "text": [
      "Categories in 'gender' variable:  ['female' 'male']\n",
      "Categories in 'race/ethnicity' variable:  ['group B' 'group C' 'group A' 'group D' 'group E']\n",
      "Categories in 'parental level of education' variable:  [\"bachelor's degree\" 'some college' \"master's degree\" \"associate's degree\"\n",
      " 'high school' 'some high school']\n",
      "Categories in 'lunch' variable:  ['standard' 'free/reduced']\n",
      "Categories in 'test preparation course' variable:  ['none' 'completed']\n"
     ]
    }
   ],
   "execution_count": 19
  },
  {
   "metadata": {},
   "cell_type": "markdown",
   "source": "# We define the numerical and categorical columns",
   "id": "9824a47b70cf3751"
  },
  {
   "metadata": {
    "ExecuteTime": {
     "end_time": "2024-05-10T07:56:34.295179Z",
     "start_time": "2024-05-10T07:56:34.291784Z"
    }
   },
   "cell_type": "code",
   "source": [
    "numerical_features = [feature for feature in df.columns if df[feature].dtype != \"object\"]\n",
    "categorical_feature = [feature for feature in df.columns if df[feature].dtype == 'object']\n",
    "\n",
    "print(\"We have {} numerical features : {}\".format(len(numerical_features), numerical_features))\n",
    "print(\"We have {} categorical features : {}\".format(len(categorical_feature), categorical_feature))"
   ],
   "id": "598651bf4ff80e2f",
   "outputs": [
    {
     "name": "stdout",
     "output_type": "stream",
     "text": [
      "We have 3 numerical features : ['math score', 'reading score', 'writing score']\n",
      "We have 5 categorical features : ['gender', 'race/ethnicity', 'parental level of education', 'lunch', 'test preparation course']\n"
     ]
    }
   ],
   "execution_count": 25
  },
  {
   "metadata": {},
   "cell_type": "code",
   "outputs": [],
   "execution_count": null,
   "source": "",
   "id": "fdfa434066379c50"
  }
 ],
 "metadata": {
  "kernelspec": {
   "display_name": "Python 3",
   "language": "python",
   "name": "python3"
  },
  "language_info": {
   "codemirror_mode": {
    "name": "ipython",
    "version": 2
   },
   "file_extension": ".py",
   "mimetype": "text/x-python",
   "name": "python",
   "nbconvert_exporter": "python",
   "pygments_lexer": "ipython2",
   "version": "2.7.6"
  }
 },
 "nbformat": 4,
 "nbformat_minor": 5
}
